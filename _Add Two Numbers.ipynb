{
 "cells": [
  {
   "cell_type": "code",
   "execution_count": null,
   "metadata": {},
   "outputs": [],
   "source": [
    "def addtwonumbers(self,l1,l2)class Solution:\n",
    "    def addTwoNumbers(self, l1, l2):\n",
    "        head=l3=ListNode(0)\n",
    "        carry=0\n",
    "        while l1 or l2 or carry:\n",
    "            if l1:\n",
    "                carry+=l1.val\n",
    "                l1=l1.next\n",
    "            if l2:\n",
    "                carry+=l2.val\n",
    "                l2=l2.next\n",
    "            l3.val=carry%10\n",
    "            carry=carry//10\n",
    "            \n",
    "            if l1 or l2 or carry:\n",
    "                l3.next=ListNode(0)\n",
    "                l3=l3.next\n",
    "        return head        \n",
    "        "
   ]
  }
 ],
 "metadata": {
  "kernelspec": {
   "display_name": "Python 3",
   "language": "python",
   "name": "python3"
  },
  "language_info": {
   "codemirror_mode": {
    "name": "ipython",
    "version": 3
   },
   "file_extension": ".py",
   "mimetype": "text/x-python",
   "name": "python",
   "nbconvert_exporter": "python",
   "pygments_lexer": "ipython3",
   "version": "3.8.3"
  }
 },
 "nbformat": 4,
 "nbformat_minor": 4
}
