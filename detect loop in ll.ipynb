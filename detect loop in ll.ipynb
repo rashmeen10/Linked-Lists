{
 "cells": [
  {
   "cell_type": "code",
   "execution_count": null,
   "metadata": {},
   "outputs": [],
   "source": [
    "#floyd's detection algo\n",
    "def detectloop(head):\n",
    "    fast=head\n",
    "    while (fast !=None and fast.next !=None):\n",
    "        head=head.next\n",
    "        fast=fast.next.next\n",
    "        if head==fast:\n",
    "            return True\n",
    "    return False"
   ]
  },
  {
   "cell_type": "code",
   "execution_count": null,
   "metadata": {},
   "outputs": [],
   "source": [
    "#hashset\n",
    "def detectloop(head):\n",
    "    s=set()\n",
    "    temp=head\n",
    "    while temp:\n",
    "        if temp in s:\n",
    "            return True\n",
    "        s.add(temp)\n",
    "        temp=temp.next\n",
    "    return False"
   ]
  }
 ],
 "metadata": {
  "kernelspec": {
   "display_name": "Python 3",
   "language": "python",
   "name": "python3"
  },
  "language_info": {
   "codemirror_mode": {
    "name": "ipython",
    "version": 3
   },
   "file_extension": ".py",
   "mimetype": "text/x-python",
   "name": "python",
   "nbconvert_exporter": "python",
   "pygments_lexer": "ipython3",
   "version": "3.8.3"
  }
 },
 "nbformat": 4,
 "nbformat_minor": 4
}
