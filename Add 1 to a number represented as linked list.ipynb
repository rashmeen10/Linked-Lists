{
 "cells": [
  {
   "cell_type": "code",
   "execution_count": null,
   "metadata": {},
   "outputs": [],
   "source": [
    "def reverse(head):\n",
    "    prev=None\n",
    "    curr=head\n",
    "    while curr is not None:\n",
    "        next=curr.next\n",
    "        curr.next=prev\n",
    "        prev=curr\n",
    "        curr=next\n",
    "    return prev\n",
    "def addone(head):\n",
    "    head=reverse(head)\n",
    "    k=head\n",
    "    carry=0\n",
    "    head.data=head.data+1\n",
    "    while head!=None and (head.data>9 or carry>0):\n",
    "        prev=head\n",
    "        head.data=carry+head.data\n",
    "        head.data=head.data//10\n",
    "        carry=head.data%10\n",
    "        head=head.next\n",
    "    if carry>0:\n",
    "        prev.next=Node(carry)\n",
    "        return reverse(k)\n",
    "        \n",
    "        "
   ]
  }
 ],
 "metadata": {
  "kernelspec": {
   "display_name": "Python 3",
   "language": "python",
   "name": "python3"
  },
  "language_info": {
   "codemirror_mode": {
    "name": "ipython",
    "version": 3
   },
   "file_extension": ".py",
   "mimetype": "text/x-python",
   "name": "python",
   "nbconvert_exporter": "python",
   "pygments_lexer": "ipython3",
   "version": "3.8.3"
  }
 },
 "nbformat": 4,
 "nbformat_minor": 4
}
