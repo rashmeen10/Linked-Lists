{
 "cells": [
  {
   "cell_type": "code",
   "execution_count": null,
   "metadata": {},
   "outputs": [],
   "source": [
    "def evenafterodd(head):\n",
    "    if head is None:\n",
    "        return head\n",
    "    evenhead,eventail,oddhead,oddtail=None,None,None,None,\n",
    "    while head is not None:\n",
    "        if head.data%2==0:\n",
    "            if evenhead is None:\n",
    "                evenhead=head\n",
    "                eventail=head\n",
    "            else:\n",
    "                eventail.next=head\n",
    "                eventail=eventail.next\n",
    "        else:\n",
    "            if oddhead is None:\n",
    "                oddhead=head\n",
    "                oddtail=head\n",
    "            else:\n",
    "                oddtail.mext=head\n",
    "                oddtail=oddtail.next\n",
    "        head=head.next\n",
    "        if oddhead is None:\n",
    "            return evenhead\n",
    "        else:\n",
    "            oddtail.next=evenhead\n",
    "        if evenhead is not None:\n",
    "            eventail.next=None\n",
    "        return oddhead\n",
    "                "
   ]
  }
 ],
 "metadata": {
  "kernelspec": {
   "display_name": "Python 3",
   "language": "python",
   "name": "python3"
  },
  "language_info": {
   "codemirror_mode": {
    "name": "ipython",
    "version": 3
   },
   "file_extension": ".py",
   "mimetype": "text/x-python",
   "name": "python",
   "nbconvert_exporter": "python",
   "pygments_lexer": "ipython3",
   "version": "3.8.3"
  }
 },
 "nbformat": 4,
 "nbformat_minor": 4
}
