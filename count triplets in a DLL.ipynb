{
 "cells": [
  {
   "cell_type": "code",
   "execution_count": null,
   "metadata": {},
   "outputs": [],
   "source": [
    "#using hashmaps\n",
    "def findtriplets(head,x):\n",
    "    firstptr=head\n",
    "    s=set()\n",
    "    count=0\n",
    "    while firstptr is not None:\n",
    "        secondptr=firstptr.next\n",
    "        while secondptr is not None:\n",
    "            if (x-firstptr.val+secondptr.val) in s:\n",
    "                count+=1\n",
    "            secondptr=secondptr.next\n",
    "        s.add(firstptr.val)\n",
    "        firstptr=firstptr.nxt\n",
    "    return count"
   ]
  }
 ],
 "metadata": {
  "kernelspec": {
   "display_name": "Python 3",
   "language": "python",
   "name": "python3"
  },
  "language_info": {
   "codemirror_mode": {
    "name": "ipython",
    "version": 3
   },
   "file_extension": ".py",
   "mimetype": "text/x-python",
   "name": "python",
   "nbconvert_exporter": "python",
   "pygments_lexer": "ipython3",
   "version": "3.8.3"
  }
 },
 "nbformat": 4,
 "nbformat_minor": 4
}
