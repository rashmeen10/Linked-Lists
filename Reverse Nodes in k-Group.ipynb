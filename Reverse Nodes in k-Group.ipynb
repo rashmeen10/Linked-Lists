{
 "cells": [
  {
   "cell_type": "markdown",
   "metadata": {},
   "source": [
    "### leetcode solution"
   ]
  },
  {
   "cell_type": "code",
   "execution_count": null,
   "metadata": {},
   "outputs": [],
   "source": [
    "class Solution:\n",
    "    def reverseKGroup(self, head: ListNode, k: int) -> ListNode:\n",
    "        curr=head\n",
    "        for _ in range(k):\n",
    "            if curr is None:\n",
    "                return head\n",
    "            curr=curr.next\n",
    "        #basic way to reverse a ll\n",
    "        prev=None\n",
    "        curr=head\n",
    "        for _ in range(k):\n",
    "            nxt=curr.next\n",
    "            curr.next=prev\n",
    "            prev=curr\n",
    "            curr=nxt\n",
    "        head.next=self.reverseKGroup(curr,k)\n",
    "        return prev\n",
    "        "
   ]
  }
 ],
 "metadata": {
  "kernelspec": {
   "display_name": "Python 3",
   "language": "python",
   "name": "python3"
  },
  "language_info": {
   "codemirror_mode": {
    "name": "ipython",
    "version": 3
   },
   "file_extension": ".py",
   "mimetype": "text/x-python",
   "name": "python",
   "nbconvert_exporter": "python",
   "pygments_lexer": "ipython3",
   "version": "3.8.3"
  }
 },
 "nbformat": 4,
 "nbformat_minor": 4
}
