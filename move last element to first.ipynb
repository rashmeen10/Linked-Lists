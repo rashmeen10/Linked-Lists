{
 "cells": [
  {
   "cell_type": "code",
   "execution_count": null,
   "metadata": {},
   "outputs": [],
   "source": [
    "def rearrangelist(head,prev,curr):\n",
    "    curr=head\n",
    "    if curr.next is None:\n",
    "        curr.next=head\n",
    "        prev.next=None\n",
    "        return curr\n",
    "    return rearranglist(head, curr, curr.next)\n",
    "def rearrange(head):\n",
    "    if (head or head.next) is None:\n",
    "        return head\n",
    "    else:\n",
    "        head=rearrangelist(head,None,head)\n",
    "        \n",
    "        "
   ]
  }
 ],
 "metadata": {
  "kernelspec": {
   "display_name": "Python 3",
   "language": "python",
   "name": "python3"
  },
  "language_info": {
   "codemirror_mode": {
    "name": "ipython",
    "version": 3
   },
   "file_extension": ".py",
   "mimetype": "text/x-python",
   "name": "python",
   "nbconvert_exporter": "python",
   "pygments_lexer": "ipython3",
   "version": "3.8.3"
  }
 },
 "nbformat": 4,
 "nbformat_minor": 4
}
