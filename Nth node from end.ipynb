{
 "cells": [
  {
   "cell_type": "code",
   "execution_count": null,
   "metadata": {},
   "outputs": [],
   "source": [
    "def NthnodeFromEnd(head,n):\n",
    "    l=0\n",
    "    curr=head\n",
    "    while curr is not None:\n",
    "        l+=1\n",
    "        curr=curr.next\n",
    "    k=l-n+1\n",
    "    \n",
    "    curr=head\n",
    "    k-=1\n",
    "    while (k):\n",
    "        curr=curr.next\n",
    "        k-=1\n",
    "    return curr\n",
    "        "
   ]
  }
 ],
 "metadata": {
  "kernelspec": {
   "display_name": "Python 3",
   "language": "python",
   "name": "python3"
  },
  "language_info": {
   "codemirror_mode": {
    "name": "ipython",
    "version": 3
   },
   "file_extension": ".py",
   "mimetype": "text/x-python",
   "name": "python",
   "nbconvert_exporter": "python",
   "pygments_lexer": "ipython3",
   "version": "3.8.3"
  }
 },
 "nbformat": 4,
 "nbformat_minor": 4
}
