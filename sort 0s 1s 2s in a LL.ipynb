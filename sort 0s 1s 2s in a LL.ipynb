{
 "cells": [
  {
   "cell_type": "code",
   "execution_count": null,
   "metadata": {},
   "outputs": [],
   "source": [
    "def sortlist(self):\n",
    "    count=[0,0,0]\n",
    "    ptr=self.head\n",
    "    while ptr is not None:\n",
    "        count[ptr.data]+=1\n",
    "        ptr=ptr.next\n",
    "        \n",
    "    i=0\n",
    "    ptr=self.head\n",
    "    while ptr!=None:\n",
    "        if count[i]==0:\n",
    "            i+=1\n",
    "        else:\n",
    "            ptr.data==i\n",
    "            count[i]-=1\n",
    "            ptr=ptr.next"
   ]
  }
 ],
 "metadata": {
  "kernelspec": {
   "display_name": "Python 3",
   "language": "python",
   "name": "python3"
  },
  "language_info": {
   "codemirror_mode": {
    "name": "ipython",
    "version": 3
   },
   "file_extension": ".py",
   "mimetype": "text/x-python",
   "name": "python",
   "nbconvert_exporter": "python",
   "pygments_lexer": "ipython3",
   "version": "3.8.3"
  }
 },
 "nbformat": 4,
 "nbformat_minor": 4
}
