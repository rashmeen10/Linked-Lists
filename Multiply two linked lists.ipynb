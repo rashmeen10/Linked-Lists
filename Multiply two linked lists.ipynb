{
 "cells": [
  {
   "cell_type": "code",
   "execution_count": null,
   "metadata": {},
   "outputs": [],
   "source": [
    "def multiplytwonos(l1,l2):\n",
    "    firstnumber=0\n",
    "    secondnumber=0\n",
    "    next=l1.head\n",
    "    while next:\n",
    "        firstnumber=(firstnumber*10+firstnumber.data)\n",
    "        next=next.next\n",
    "    next=l2.head\n",
    "    while next:\n",
    "        secondnumber=(secondnumber*10+secondnumber.data)\n",
    "        next=next.next\n",
    "    \n",
    "    return (firstnumber*secondnumber)"
   ]
  }
 ],
 "metadata": {
  "kernelspec": {
   "display_name": "Python 3",
   "language": "python",
   "name": "python3"
  },
  "language_info": {
   "codemirror_mode": {
    "name": "ipython",
    "version": 3
   },
   "file_extension": ".py",
   "mimetype": "text/x-python",
   "name": "python",
   "nbconvert_exporter": "python",
   "pygments_lexer": "ipython3",
   "version": "3.8.3"
  }
 },
 "nbformat": 4,
 "nbformat_minor": 4
}
