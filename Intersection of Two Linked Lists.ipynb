{
 "cells": [
  {
   "cell_type": "code",
   "execution_count": null,
   "metadata": {},
   "outputs": [],
   "source": [
    "#leetcode solution\n",
    "class Solution:\n",
    "    def getIntersectionNode(self, headA, headB):\n",
    "        curA,curB = headA,headB\n",
    "        lenA,lenB = 0,0\n",
    "        while curA is not None:\n",
    "            lenA += 1\n",
    "            curA = curA.next\n",
    "        while curB is not None:\n",
    "            lenB += 1\n",
    "            curB = curB.next\n",
    "        curA,curB = headA,headB\n",
    "        if lenA > lenB:\n",
    "            for i in range(lenA-lenB):\n",
    "                curA = curA.next\n",
    "        elif lenB > lenA:\n",
    "            for i in range(lenB-lenA):\n",
    "                curB = curB.next\n",
    "        while curB != curA:\n",
    "            curB = curB.next\n",
    "            curA = curA.next\n",
    "        return curA\n",
    "        "
   ]
  }
 ],
 "metadata": {
  "kernelspec": {
   "display_name": "Python 3",
   "language": "python",
   "name": "python3"
  },
  "language_info": {
   "codemirror_mode": {
    "name": "ipython",
    "version": 3
   },
   "file_extension": ".py",
   "mimetype": "text/x-python",
   "name": "python",
   "nbconvert_exporter": "python",
   "pygments_lexer": "ipython3",
   "version": "3.8.3"
  }
 },
 "nbformat": 4,
 "nbformat_minor": 4
}
