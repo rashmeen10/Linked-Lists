{
 "cells": [
  {
   "cell_type": "code",
   "execution_count": null,
   "metadata": {},
   "outputs": [],
   "source": [
    "def findpairs(head,x):\n",
    "    first=head\n",
    "    second=head\n",
    "    while second!=None:\n",
    "        second=second.next\n",
    "    found=False\n",
    "    while first!=None and second!=None and first!=second and second.next!=first:\n",
    "        if first.data+second.data==x:\n",
    "            print(first.data,second.data)\n",
    "            found=True\n",
    "        first=first.next\n",
    "        second=second.next\n",
    "        else:\n",
    "            if first.data+second.data<x:\n",
    "                first=first.next\n",
    "            else:\n",
    "                second=second.next\n",
    "    if found==False:\n",
    "        print('no pair found')\n"
   ]
  }
 ],
 "metadata": {
  "kernelspec": {
   "display_name": "Python 3",
   "language": "python",
   "name": "python3"
  },
  "language_info": {
   "codemirror_mode": {
    "name": "ipython",
    "version": 3
   },
   "file_extension": ".py",
   "mimetype": "text/x-python",
   "name": "python",
   "nbconvert_exporter": "python",
   "pygments_lexer": "ipython3",
   "version": "3.8.3"
  }
 },
 "nbformat": 4,
 "nbformat_minor": 4
}
